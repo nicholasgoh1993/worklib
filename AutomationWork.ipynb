{
 "cells": [
  {
   "cell_type": "code",
   "execution_count": 47,
   "metadata": {},
   "outputs": [],
   "source": [
    "import win32com.client\n",
    "import glob\n",
    "import sys, io\n",
    "import pandas as pd\n",
    "import re\n",
    "import os\n",
    "import base64\n",
    "from datetime import datetime,date\n",
    "import pywintypes\n",
    "import time\n",
    "import seaborn as sns \n",
    "\n",
    "path = r\"C:\\Users\\ngoh\\Documents\\test_sheet2.xlsx\"\n",
    "eps = 1e7"
   ]
  },
  {
   "cell_type": "code",
   "execution_count": 2,
   "metadata": {},
   "outputs": [],
   "source": [
    "def getChartDict(inpath,sheetnumber): ##returns Dict with Chart Numbers and Names\n",
    "    out = {}\n",
    "    o = win32com.client.Dispatch('Excel.Application')\n",
    "    o.Visible = True\n",
    "    o.DisplayAlerts = False\n",
    "        \n",
    "    wb = o.Workbooks.Open(inpath)\n",
    "    sheet = o.Sheets(sheetnumber)\n",
    "    \n",
    "    for chart in sheet.ChartObjects():\n",
    "        out.update({int(re.search(r'\\d+', chart.Name).group()): chart.Chart.ChartTitle.Text}) \n",
    "        \n",
    "    return out\n",
    "        \n",
    "# ChartDict = getChartDict(path,1)\n",
    "# chartlist = ['ICE JKM vs TTF',\n",
    "#             'ICE TTF vs HH',\n",
    "#              'ICE NBP vs TTF'    \n",
    "#             ]\n",
    "\n",
    "def getPNGs(inpath,sheetnumber,chartlist): ##rather hacky way of selection charts not by chart number but by sorted position\n",
    "    o = win32com.client.Dispatch('Excel.Application')\n",
    "    o.Visible = True\n",
    "    o.DisplayAlerts = False\n",
    "    \n",
    "\n",
    "    saved_paths = []\n",
    "    \n",
    "    wb = o.Workbooks.Open(inpath)\n",
    "    sheet = o.Sheets(sheetnumber)\n",
    "    \n",
    "    for chart_title in chartlist:   \n",
    "        i=0\n",
    "        for _,value in ChartDict.items(): \n",
    "            i+=1\n",
    "            if chart_title == value: \n",
    "                sheet.ChartObjects(i).Chart.Export(FileName:=chart_title+\".png\", FilterName:=\"PNG\")\n",
    "                saved_paths.append(os.getcwd() + \"/Documents/\" +chart_title+ \".png\")\n",
    "    \n",
    "    \n",
    "    return saved_paths\n",
    "\n",
    "def update_and_refresh_date_today(inpath,sheetnumber,datecellnumber,flagcellnumber):## where cell number is a tuple\n",
    "    o = win32com.client.Dispatch('Excel.Application')\n",
    "#     o = win32com.client.gencache.EnsureDispatch('Excel.Application')\n",
    "    o.Visible = True\n",
    "    o.DisplayAlerts = False\n",
    "\n",
    "    \n",
    "    wb = o.Workbooks.Open(inpath)\n",
    "    sheet = o.Sheets(sheetnumber)\n",
    "    today_datetime = datetime.now()\n",
    "    today_datetime = datetime(today_datetime.year,today_datetime.month,today_datetime.day,0,0,0)\n",
    "    today_time = time.mktime(today_datetime.timetuple())\n",
    "    new_datetime = pywintypes.Time(today_time)\n",
    "\n",
    "    sheet.Cells(datecellnumber[0], datecellnumber[1]).Value =  new_datetime\n",
    "\n",
    "#     o.Calculation = -4105 ##set to automatic for while loop\n",
    "\n",
    "    o.Calculate()\n",
    "    while True:\n",
    "#         if o.CalculationState == 0: ##check if data update is still being carried\n",
    "        time.sleep(5)\n",
    "        if \"ZE_PROFILE()\" in sheet.Cells(flagcellnumber[0], flagcellnumber[1]).Value:  \n",
    "            print('Update Done!')\n",
    "#             o.Calculation = -4135 ##set back to manual\n",
    "            break \n",
    "    \n",
    "#     wb.Save()\n",
    "#     wb.Close()\n",
    "#     o.Quit()\n",
    "    \n",
    "def update_and_refresh_date(inpath,sheetnumber,datecellnumber,flagcellnumber,newdate):## where cell number is a tuple, newdate is in \"DD-MM-YYYY\" format\n",
    "    o = win32com.client.Dispatch('Excel.Application')\n",
    "#     o = win32com.client.gencache.EnsureDispatch('Excel.Application')\n",
    "    o.Visible = True\n",
    "    o.DisplayAlerts = False\n",
    "    \n",
    "\n",
    "    wb = o.Workbooks.Open(inpath)\n",
    "    sheet = o.Sheets(sheetnumber)\n",
    "    dd,mm,yyyy = int(newdate[:2]) , int(newdate[3:5]), int(newdate[6:])\n",
    "    today_datetime = datetime(yyyy,mm,dd,0,0,0)\n",
    "    today_time = time.mktime(today_datetime.timetuple())\n",
    "    new_datetime = pywintypes.Time(today_time)\n",
    "\n",
    "    sheet.Cells(datecellnumber[0], datecellnumber[1]).Value =  new_datetime\n",
    "\n",
    "#     o.Calculation = -4105 ##set to automatic for while loop\n",
    "    sheet.Calculate()\n",
    "    \n",
    "    i=0\n",
    "    while True:\n",
    "#         if o.CalculationState == 0: ##check if data update is still being carried\n",
    "        \n",
    "        i+=1\n",
    "        if i==eps:\n",
    "            sheet.Calculate()\n",
    "            i=0\n",
    " \n",
    "        if \"ZE_PROFILE()\" in sheet.Cells(flagcellnumber[0], flagcellnumber[1]).Value:  \n",
    "            print('Update Done!')\n",
    "#             o.Calculation = -4135 ##set back to manual\n",
    "            break \n",
    "    \n",
    "#     wb.Save()\n",
    "#     wb.Close()\n",
    "#     o.Quit()\n",
    "        \n",
    "            \n",
    "# def table_col_find(): ##finds a particular string\n",
    "# def table_row_find():\n",
    "def send_email(subject, text, list_img_paths):\n",
    "\n",
    "    outlook = win32com.client.Dispatch('outlook.application')\n",
    "    myItem = outlook.CreateItem(0)\n",
    "\n",
    "    myItem.Subject = subject\n",
    "    list_email_img = []\n",
    "    img_tag = ''\n",
    "    for i in range(len(list_img_paths)):\n",
    "        list_email_img.append(base64.b64encode(open(list_img_paths[i], 'rb').read()).decode('utf-8').replace('\\n',''))\n",
    "        img_tag +='<img alt=\"\" src=\"data:image/png;base64,{}\"/>'.format(list_email_img[i])\n",
    "    myItem.HtmlBody = \"\"\"\\\n",
    "    <html>\n",
    "    <head>{}</head>\n",
    "    <body>\n",
    "    <p>{}<br>\n",
    "    </p>\n",
    "    </body>\n",
    "    </html>\n",
    "    \"\"\".format(text, img_tag)\n",
    "    myItem.To = \"nicholas.goh@pavilionenergy.com\"\n",
    "#     myItem.CC = 'example@example.org'\n",
    "    myItem.Display()\n",
    "    myItem.Send()    \n",
    "    \n",
    "    \n",
    "def take_table(inpath,sheetnumber,datecellnumber,flagcellnumber,newdate)\n",
    "     \n",
    "    \n",
    "    \n",
    "    \n",
    "# saved_paths = getPNGs(path,1,chartlist)\n",
    "    "
   ]
  },
  {
   "cell_type": "code",
   "execution_count": 3,
   "metadata": {},
   "outputs": [
    {
     "name": "stderr",
     "output_type": "stream",
     "text": [
      "<ipython-input-2-beed198f3c3f>:86: DeprecationWarning: an integer is required (got type float).  Implicit conversion to integers using __int__ is deprecated, and may be removed in a future version of Python.\n",
      "  new_datetime = pywintypes.Time(today_time)\n"
     ]
    },
    {
     "name": "stdout",
     "output_type": "stream",
     "text": [
      "Update Done!\n",
      "Update Done!\n"
     ]
    }
   ],
   "source": [
    "update_and_refresh_date(path,3,(2,2),(4,1),\"16-02-2021\")\n",
    "update_and_refresh_date(path,4,(2,2),(4,1),\"16-02-2021\")\n",
    "ChartDict = getChartDict(path,1)\n",
    "chartlist = ['ICE JKM vs TTF',\n",
    "            'ICE TTF vs HH',\n",
    "             'ICE NBP vs TTF'    \n",
    "            ]\n",
    "saved_paths = getPNGs(path,1,chartlist)\n",
    "send_email(\"combined test\", \"This is a random test\", saved_paths)"
   ]
  },
  {
   "cell_type": "code",
   "execution_count": 11,
   "metadata": {},
   "outputs": [],
   "source": [
    "send_email(\"combined test\", \"This is a random test\", saved_paths)"
   ]
  },
  {
   "cell_type": "code",
   "execution_count": 33,
   "metadata": {},
   "outputs": [
    {
     "data": {
      "text/plain": [
       "datetime.datetime(2021, 2, 5, 0, 0, tzinfo=TimeZoneInfo('GMT Standard Time', True))"
      ]
     },
     "execution_count": 33,
     "metadata": {},
     "output_type": "execute_result"
    }
   ],
   "source": [
    "o = win32com.client.Dispatch('Excel.Application')\n",
    "o.Visible = True\n",
    "o.DisplayAlerts = False\n",
    "\n",
    "wb = o.Workbooks.Open(path)\n",
    "sheet = o.Sheets(3)\n",
    "o.calculate\n",
    "\n",
    "\n",
    "# datetime.strptime(sheet.Cells(2, 2).Value, '%Y-%m-%d %H:%M:%S')\n"
   ]
  },
  {
   "cell_type": "code",
   "execution_count": 5,
   "metadata": {
    "scrolled": true
   },
   "outputs": [
    {
     "name": "stderr",
     "output_type": "stream",
     "text": [
      "<ipython-input-4-025bb3772b9c>:51: DeprecationWarning: an integer is required (got type float).  Implicit conversion to integers using __int__ is deprecated, and may be removed in a future version of Python.\n",
      "  new_datetime = pywintypes.Time(today_time)\n"
     ]
    },
    {
     "name": "stdout",
     "output_type": "stream",
     "text": [
      "Update Done!\n"
     ]
    },
    {
     "ename": "com_error",
     "evalue": "(-2147352567, 'Exception occurred.', (0, 'Microsoft Excel', 'Unable to set the Calculation property of the Application class', 'xlmain11.chm', 0, -2146827284), None)",
     "output_type": "error",
     "traceback": [
      "\u001b[1;31m---------------------------------------------------------------------------\u001b[0m",
      "\u001b[1;31mcom_error\u001b[0m                                 Traceback (most recent call last)",
      "\u001b[1;32m<ipython-input-5-ae50876714f1>\u001b[0m in \u001b[0;36m<module>\u001b[1;34m\u001b[0m\n\u001b[1;32m----> 1\u001b[1;33m \u001b[0mupdate_and_refresh_date_today\u001b[0m\u001b[1;33m(\u001b[0m\u001b[0mpath\u001b[0m\u001b[1;33m,\u001b[0m\u001b[1;36m3\u001b[0m\u001b[1;33m,\u001b[0m\u001b[1;33m(\u001b[0m\u001b[1;36m2\u001b[0m\u001b[1;33m,\u001b[0m\u001b[1;36m2\u001b[0m\u001b[1;33m)\u001b[0m\u001b[1;33m)\u001b[0m\u001b[1;33m\u001b[0m\u001b[1;33m\u001b[0m\u001b[0m\n\u001b[0m\u001b[0;32m      2\u001b[0m \u001b[1;33m\u001b[0m\u001b[0m\n\u001b[0;32m      3\u001b[0m \u001b[1;31m# today_datetime = pywintypes.Time(date.today)\u001b[0m\u001b[1;33m\u001b[0m\u001b[1;33m\u001b[0m\u001b[1;33m\u001b[0m\u001b[0m\n",
      "\u001b[1;32m<ipython-input-4-025bb3772b9c>\u001b[0m in \u001b[0;36mupdate_and_refresh_date_today\u001b[1;34m(inpath, sheetnumber, cellnumber)\u001b[0m\n\u001b[0;32m     59\u001b[0m         \u001b[1;32mif\u001b[0m \u001b[0mo\u001b[0m\u001b[1;33m.\u001b[0m\u001b[0mCalculationState\u001b[0m \u001b[1;33m==\u001b[0m \u001b[1;36m0\u001b[0m\u001b[1;33m:\u001b[0m \u001b[1;31m##check if data update is still being carried\u001b[0m\u001b[1;33m\u001b[0m\u001b[1;33m\u001b[0m\u001b[0m\n\u001b[0;32m     60\u001b[0m             \u001b[0mprint\u001b[0m\u001b[1;33m(\u001b[0m\u001b[1;34m'Update Done!'\u001b[0m\u001b[1;33m)\u001b[0m\u001b[1;33m\u001b[0m\u001b[1;33m\u001b[0m\u001b[0m\n\u001b[1;32m---> 61\u001b[1;33m             \u001b[0mo\u001b[0m\u001b[1;33m.\u001b[0m\u001b[0mCalculation\u001b[0m \u001b[1;33m=\u001b[0m \u001b[1;33m-\u001b[0m\u001b[1;36m4135\u001b[0m \u001b[1;31m##set back to manual\u001b[0m\u001b[1;33m\u001b[0m\u001b[1;33m\u001b[0m\u001b[0m\n\u001b[0m\u001b[0;32m     62\u001b[0m             \u001b[1;32mbreak\u001b[0m\u001b[1;33m\u001b[0m\u001b[1;33m\u001b[0m\u001b[0m\n\u001b[0;32m     63\u001b[0m \u001b[1;33m\u001b[0m\u001b[0m\n",
      "\u001b[1;32mC:\\ProgramData\\Anaconda3\\lib\\site-packages\\win32com\\client\\dynamic.py\u001b[0m in \u001b[0;36m__setattr__\u001b[1;34m(self, attr, value)\u001b[0m\n\u001b[0;32m    547\u001b[0m                                 \u001b[0mentry\u001b[0m \u001b[1;33m=\u001b[0m \u001b[0mself\u001b[0m\u001b[1;33m.\u001b[0m\u001b[0m_olerepr_\u001b[0m\u001b[1;33m.\u001b[0m\u001b[0mpropMapPut\u001b[0m\u001b[1;33m[\u001b[0m\u001b[0mattr\u001b[0m\u001b[1;33m]\u001b[0m\u001b[1;33m\u001b[0m\u001b[1;33m\u001b[0m\u001b[0m\n\u001b[0;32m    548\u001b[0m                                 \u001b[0minvoke_type\u001b[0m \u001b[1;33m=\u001b[0m \u001b[0m_GetDescInvokeType\u001b[0m\u001b[1;33m(\u001b[0m\u001b[0mentry\u001b[0m\u001b[1;33m,\u001b[0m \u001b[0mpythoncom\u001b[0m\u001b[1;33m.\u001b[0m\u001b[0mINVOKE_PROPERTYPUT\u001b[0m\u001b[1;33m)\u001b[0m\u001b[1;33m\u001b[0m\u001b[1;33m\u001b[0m\u001b[0m\n\u001b[1;32m--> 549\u001b[1;33m                                 \u001b[0mself\u001b[0m\u001b[1;33m.\u001b[0m\u001b[0m_oleobj_\u001b[0m\u001b[1;33m.\u001b[0m\u001b[0mInvoke\u001b[0m\u001b[1;33m(\u001b[0m\u001b[0mentry\u001b[0m\u001b[1;33m.\u001b[0m\u001b[0mdispid\u001b[0m\u001b[1;33m,\u001b[0m \u001b[1;36m0\u001b[0m\u001b[1;33m,\u001b[0m \u001b[0minvoke_type\u001b[0m\u001b[1;33m,\u001b[0m \u001b[1;36m0\u001b[0m\u001b[1;33m,\u001b[0m \u001b[0mvalue\u001b[0m\u001b[1;33m)\u001b[0m\u001b[1;33m\u001b[0m\u001b[1;33m\u001b[0m\u001b[0m\n\u001b[0m\u001b[0;32m    550\u001b[0m                                 \u001b[1;32mreturn\u001b[0m\u001b[1;33m\u001b[0m\u001b[1;33m\u001b[0m\u001b[0m\n\u001b[0;32m    551\u001b[0m \u001b[1;33m\u001b[0m\u001b[0m\n",
      "\u001b[1;31mcom_error\u001b[0m: (-2147352567, 'Exception occurred.', (0, 'Microsoft Excel', 'Unable to set the Calculation property of the Application class', 'xlmain11.chm', 0, -2146827284), None)"
     ]
    }
   ],
   "source": [
    "update_and_refresh_date_today(path,3,(2,2),(4,1))\n",
    "\n",
    "# today_datetime = pywintypes.Time(date.today)\n"
   ]
  },
  {
   "cell_type": "code",
   "execution_count": 43,
   "metadata": {},
   "outputs": [
    {
     "name": "stderr",
     "output_type": "stream",
     "text": [
      "<ipython-input-42-020f497110f6>:100: DeprecationWarning: an integer is required (got type float).  Implicit conversion to integers using __int__ is deprecated, and may be removed in a future version of Python.\n",
      "  new_datetime = pywintypes.Time(today_time)\n"
     ]
    },
    {
     "name": "stdout",
     "output_type": "stream",
     "text": [
      "Update Done!\n"
     ]
    }
   ],
   "source": [
    "update_and_refresh_date(path,3,(2,2),(4,1),\"17-02-2021\")\n",
    "\n"
   ]
  },
  {
   "cell_type": "code",
   "execution_count": 4,
   "metadata": {},
   "outputs": [],
   "source": [
    "o = win32com.client.Dispatch('Excel.Application')\n",
    "o.Visible = True\n",
    "o.DisplayAlerts = False\n",
    "path = r\"C:\\Users\\ngoh\\Documents\\curves_test.xlsm\"\n",
    "\n",
    "wb = o.Workbooks.Open(path)\n",
    "sheet = o.Sheets(12)"
   ]
  },
  {
   "cell_type": "code",
   "execution_count": 49,
   "metadata": {},
   "outputs": [
    {
     "data": {
      "text/plain": [
       "<AxesSubplot:>"
      ]
     },
     "execution_count": 49,
     "metadata": {},
     "output_type": "execute_result"
    },
    {
     "data": {
      "image/png": "[encoded data removed]",
      "text/plain": [
       "<Figure size 432x288 with 1 Axes>"
      ]
     },
     "metadata": {
      "needs_background": "light"
     },
     "output_type": "display_data"
    }
   ],
   "source": [
    "df = pd.DataFrame(sheet.Range(\"AA3:AI87\").Value )\n",
    "df.columns = df.iloc[0]\n",
    "df = df.iloc[2:]\n",
    "df['Month'] = df['Month'].apply(lambda x: str(x)[:-6])\n",
    "\n",
    "# df=df.set_index('Month')\n",
    "df=df.replace(\" \",0) \n",
    "df\n",
    "df['HH'].plot.line()"
   ]
  },
  {
   "cell_type": "code",
   "execution_count": null,
   "metadata": {},
   "outputs": [],
   "source": [
    "import math\n",
    "import numpy as np\n",
    "import matplotlib as mpl\n",
    "import matplotlib.pyplot as plt\n",
    "mpl.rcParams['font.family'] = 'serif'\n",
    "from BSM_option_valuation import BSM_call_value\n",
    "#\n",
    "# Model Parameters\n",
    "#\n",
    "S0 = 100.0 # index level\n",
    "K = 100.0 # option strike\n",
    "T = 1.0 # maturity date\n",
    "r = 0.05 # risk-less short rate\n",
    "sigma = 0.2 # volatility\n",
    "\n",
    "def CRR_option_value(S0, K, T, r, sigma, otype, M=4):\n",
    "''' Cox-Ross-Rubinstein European option valuation.\n",
    "    Parameters\n",
    "    ==========\n",
    "    S0: float\n",
    "    stock/index level at time 0\n",
    "    K: float\n",
    "    strike price\n",
    "    T: float\n",
    "    date of maturity\n",
    "    r: float\n",
    "    constant, risk-less short rate\n",
    "    sigma: float\n",
    "    volatility\n",
    "    otype: string\n",
    "    either 'call' or 'put'\n",
    "    M: int\n",
    "    number of time intervals\n",
    "    '''\n",
    "    # Time Parameters\n",
    "    dt = T / M # length of time interval\n",
    "    df = math.exp(-r * dt) # discount per interval\n",
    "    # Binomial Parameters\n",
    "    u = math.exp(sigma * math.sqrt(dt)) # up movement\n",
    "    d = 1 / u # down movement\n",
    "    q = (math.exp(r * dt) - d) / (u - d) # martingale branch probability\n",
    "    # Array Initialization for Index Levels\n",
    "    mu = np.arange(M + 1)\n",
    "    mu = np.resize(mu, (M + 1, M + 1))\n",
    "    md = np.transpose(mu)\n",
    "    mu = u ** (mu - md)\n",
    "    md = d ** md\n",
    "    S = S0 * mu * md\n",
    "    # Inner Values\n",
    "    if otype == 'call':\n",
    "        V = np.maximum(S - K, 0) # inner values for European call option\n",
    "    else:\n",
    "        V = np.maximum(K - S, 0) # inner values for European put option\n",
    "    z = 0\n",
    "    for t in range(M - 1, -1, -1): # backwards iteration\n",
    "        V[0:M - z, t] = (q * V[0:M - z, t + 1]+ (1 - q) * V[1:M - z + 1, t + 1]) * df\n",
    "        z += 1\n",
    "    return V[0, 0]\n",
    "\n",
    "def plot_convergence(mmin, mmax, step_size):\n",
    "''' Plots the CRR option values for increasing number of time\n",
    "intervals M against the Black-Scholes-Merton benchmark value.'''\n",
    "    BSM_benchmark = BSM_call_value(S0, K, 0, T, r, sigma)\n",
    "    m = xrange(mmin, mmax, step_size)\n",
    "    CRR_values = [CRR_option_value(S0, K, T, r, sigma, 'call', M) for M in m]\n",
    "    plt.figure(figsize=(9, 5))\n",
    "    plt.plot(m, CRR_values, label='CRR values')\n",
    "    plt.axhline(BSM_benchmark, color='r', ls='dashed', lw=1.5,\n",
    "    label='BSM benchmark')\n",
    "    plt.grid()\n",
    "    plt.xlabel('# of binomial steps $M$')\n",
    "    plt.ylabel('European call option value')\n",
    "    plt.legend(loc=4)\n",
    "    plt.xlim(0, mmax)"
   ]
  },
  {
   "cell_type": "code",
   "execution_count": 52,
   "metadata": {},
   "outputs": [
    {
     "data": {
      "text/plain": [
       "<AxesSubplot:xlabel='Month', ylabel='HH'>"
      ]
     },
     "execution_count": 52,
     "metadata": {},
     "output_type": "execute_result"
    },
    {
     "data": {
      "image/png": "[encoded data removed]",
      "text/plain": [
       "<Figure size 432x288 with 1 Axes>"
      ]
     },
     "metadata": {},
     "output_type": "display_data"
    }
   ],
   "source": [
    "sns.set_theme()\n",
    "sns.lineplot(data=df,x='Month',y='HH')"
   ]
  }
 ],
 "metadata": {
  "kernelspec": {
   "display_name": "Python 3",
   "language": "python",
   "name": "python3"
  },
  "language_info": {
   "codemirror_mode": {
    "name": "ipython",
    "version": 3
   },
   "file_extension": ".py",
   "mimetype": "text/x-python",
   "name": "python",
   "nbconvert_exporter": "python",
   "pygments_lexer": "ipython3",
   "version": "3.8.5"
  }
 },
 "nbformat": 4,
 "nbformat_minor": 4
}
